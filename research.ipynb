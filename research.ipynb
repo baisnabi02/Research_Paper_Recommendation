{
 "cells": [
  {
   "cell_type": "code",
   "execution_count": 16,
   "id": "5f2a513e-6ebe-4d3a-bdc6-2904c5991d2f",
   "metadata": {},
   "outputs": [],
   "source": [
    "import pandas as pd\n",
    "import numpy as np\n",
    "import matplotlib.pyplot as plt\n",
    "import tensorflow as tf\n",
    "from tensorflow.keras import layers\n",
    "from tensorflow import keras\n",
    "from ast import literal_eval"
   ]
  },
  {
   "cell_type": "code",
   "execution_count": 4,
   "id": "6bdef09b-1a1d-4525-ba32-7e3f10d15e05",
   "metadata": {},
   "outputs": [],
   "source": [
    "arxiv_data = pd.read_csv('arxiv_data_85.csv')"
   ]
  },
  {
   "cell_type": "code",
   "execution_count": 5,
   "id": "442f6c69-5d96-4211-bc88-0e9a9303a9e4",
   "metadata": {},
   "outputs": [
    {
     "data": {
      "text/html": [
       "<div>\n",
       "<style scoped>\n",
       "    .dataframe tbody tr th:only-of-type {\n",
       "        vertical-align: middle;\n",
       "    }\n",
       "\n",
       "    .dataframe tbody tr th {\n",
       "        vertical-align: top;\n",
       "    }\n",
       "\n",
       "    .dataframe thead th {\n",
       "        text-align: right;\n",
       "    }\n",
       "</style>\n",
       "<table border=\"1\" class=\"dataframe\">\n",
       "  <thead>\n",
       "    <tr style=\"text-align: right;\">\n",
       "      <th></th>\n",
       "      <th>terms</th>\n",
       "      <th>titles</th>\n",
       "      <th>abstracts</th>\n",
       "    </tr>\n",
       "  </thead>\n",
       "  <tbody>\n",
       "    <tr>\n",
       "      <th>0</th>\n",
       "      <td>['cs.LG']</td>\n",
       "      <td>Multi-Level Attention Pooling for Graph Neural...</td>\n",
       "      <td>Graph neural networks (GNNs) have been widely ...</td>\n",
       "    </tr>\n",
       "    <tr>\n",
       "      <th>1</th>\n",
       "      <td>['cs.LG', 'cs.AI']</td>\n",
       "      <td>Decision Forests vs. Deep Networks: Conceptual...</td>\n",
       "      <td>Deep networks and decision forests (such as ra...</td>\n",
       "    </tr>\n",
       "    <tr>\n",
       "      <th>2</th>\n",
       "      <td>['cs.LG', 'cs.CR', 'stat.ML']</td>\n",
       "      <td>Power up! Robust Graph Convolutional Network v...</td>\n",
       "      <td>Graph convolutional networks (GCNs) are powerf...</td>\n",
       "    </tr>\n",
       "    <tr>\n",
       "      <th>3</th>\n",
       "      <td>['cs.LG', 'cs.CR']</td>\n",
       "      <td>Releasing Graph Neural Networks with Different...</td>\n",
       "      <td>With the increasing popularity of Graph Neural...</td>\n",
       "    </tr>\n",
       "    <tr>\n",
       "      <th>4</th>\n",
       "      <td>['cs.LG']</td>\n",
       "      <td>Recurrence-Aware Long-Term Cognitive Network f...</td>\n",
       "      <td>Machine learning solutions for pattern classif...</td>\n",
       "    </tr>\n",
       "  </tbody>\n",
       "</table>\n",
       "</div>"
      ],
      "text/plain": [
       "                           terms  \\\n",
       "0                      ['cs.LG']   \n",
       "1             ['cs.LG', 'cs.AI']   \n",
       "2  ['cs.LG', 'cs.CR', 'stat.ML']   \n",
       "3             ['cs.LG', 'cs.CR']   \n",
       "4                      ['cs.LG']   \n",
       "\n",
       "                                              titles  \\\n",
       "0  Multi-Level Attention Pooling for Graph Neural...   \n",
       "1  Decision Forests vs. Deep Networks: Conceptual...   \n",
       "2  Power up! Robust Graph Convolutional Network v...   \n",
       "3  Releasing Graph Neural Networks with Different...   \n",
       "4  Recurrence-Aware Long-Term Cognitive Network f...   \n",
       "\n",
       "                                           abstracts  \n",
       "0  Graph neural networks (GNNs) have been widely ...  \n",
       "1  Deep networks and decision forests (such as ra...  \n",
       "2  Graph convolutional networks (GCNs) are powerf...  \n",
       "3  With the increasing popularity of Graph Neural...  \n",
       "4  Machine learning solutions for pattern classif...  "
      ]
     },
     "execution_count": 5,
     "metadata": {},
     "output_type": "execute_result"
    }
   ],
   "source": [
    "arxiv_data.head()"
   ]
  },
  {
   "cell_type": "code",
   "execution_count": 6,
   "id": "694b2fed-2886-466c-8340-6d4b68f069de",
   "metadata": {},
   "outputs": [
    {
     "data": {
      "text/plain": [
       "(56181, 3)"
      ]
     },
     "execution_count": 6,
     "metadata": {},
     "output_type": "execute_result"
    }
   ],
   "source": [
    "arxiv_data.shape"
   ]
  },
  {
   "cell_type": "code",
   "execution_count": 7,
   "id": "d2b27bec-af06-41ce-b05d-3955176d8ca7",
   "metadata": {},
   "outputs": [
    {
     "data": {
      "text/plain": [
       "terms        0\n",
       "titles       0\n",
       "abstracts    0\n",
       "dtype: int64"
      ]
     },
     "execution_count": 7,
     "metadata": {},
     "output_type": "execute_result"
    }
   ],
   "source": [
    "arxiv_data.isnull().sum()"
   ]
  },
  {
   "cell_type": "code",
   "execution_count": 8,
   "id": "7c80cde2-e6fc-4e39-86ed-ac284d93788e",
   "metadata": {},
   "outputs": [
    {
     "data": {
      "text/plain": [
       "15054"
      ]
     },
     "execution_count": 8,
     "metadata": {},
     "output_type": "execute_result"
    }
   ],
   "source": [
    "arxiv_data.duplicated().sum()"
   ]
  },
  {
   "cell_type": "code",
   "execution_count": 9,
   "id": "983b7b1c-5813-4c4b-a3d5-2e04ebaa904d",
   "metadata": {},
   "outputs": [],
   "source": [
    "arxiv_data.drop(columns= [\"terms\", \"abstracts\"], inplace=True)"
   ]
  },
  {
   "cell_type": "code",
   "execution_count": 10,
   "id": "1f084229-dc27-45ef-9fed-ab6f22371495",
   "metadata": {},
   "outputs": [],
   "source": [
    "arxiv_data.drop_duplicates(inplace = True)\n",
    "arxiv_data.reset_index(drop = True, inplace=True)"
   ]
  },
  {
   "cell_type": "code",
   "execution_count": 11,
   "id": "a2e7f72d-3e81-4198-8088-0af90b39c6dc",
   "metadata": {},
   "outputs": [
    {
     "data": {
      "text/html": [
       "<div>\n",
       "<style scoped>\n",
       "    .dataframe tbody tr th:only-of-type {\n",
       "        vertical-align: middle;\n",
       "    }\n",
       "\n",
       "    .dataframe tbody tr th {\n",
       "        vertical-align: top;\n",
       "    }\n",
       "\n",
       "    .dataframe thead th {\n",
       "        text-align: right;\n",
       "    }\n",
       "</style>\n",
       "<table border=\"1\" class=\"dataframe\">\n",
       "  <thead>\n",
       "    <tr style=\"text-align: right;\">\n",
       "      <th></th>\n",
       "      <th>titles</th>\n",
       "    </tr>\n",
       "  </thead>\n",
       "  <tbody>\n",
       "    <tr>\n",
       "      <th>0</th>\n",
       "      <td>Multi-Level Attention Pooling for Graph Neural Networks: Unifying Graph Representations with Multiple Localities</td>\n",
       "    </tr>\n",
       "    <tr>\n",
       "      <th>1</th>\n",
       "      <td>Decision Forests vs. Deep Networks: Conceptual Similarities and Empirical Differences at Small Sample Sizes</td>\n",
       "    </tr>\n",
       "    <tr>\n",
       "      <th>2</th>\n",
       "      <td>Power up! Robust Graph Convolutional Network via Graph Powering</td>\n",
       "    </tr>\n",
       "    <tr>\n",
       "      <th>3</th>\n",
       "      <td>Releasing Graph Neural Networks with Differential Privacy Guarantees</td>\n",
       "    </tr>\n",
       "    <tr>\n",
       "      <th>4</th>\n",
       "      <td>Recurrence-Aware Long-Term Cognitive Network for Explainable Pattern Classification</td>\n",
       "    </tr>\n",
       "    <tr>\n",
       "      <th>...</th>\n",
       "      <td>...</td>\n",
       "    </tr>\n",
       "    <tr>\n",
       "      <th>41100</th>\n",
       "      <td>An experimental study of graph-based semi-supervised classification with additional node information</td>\n",
       "    </tr>\n",
       "    <tr>\n",
       "      <th>41101</th>\n",
       "      <td>Bayesian Differential Privacy through Posterior Sampling</td>\n",
       "    </tr>\n",
       "    <tr>\n",
       "      <th>41102</th>\n",
       "      <td>Mining Spatio-temporal Data on Industrialization from Historical Registries</td>\n",
       "    </tr>\n",
       "    <tr>\n",
       "      <th>41103</th>\n",
       "      <td>Wav2Letter: an End-to-End ConvNet-based Speech Recognition System</td>\n",
       "    </tr>\n",
       "    <tr>\n",
       "      <th>41104</th>\n",
       "      <td>Generalized Low Rank Models</td>\n",
       "    </tr>\n",
       "  </tbody>\n",
       "</table>\n",
       "<p>41105 rows × 1 columns</p>\n",
       "</div>"
      ],
      "text/plain": [
       "                                                                                                                 titles\n",
       "0      Multi-Level Attention Pooling for Graph Neural Networks: Unifying Graph Representations with Multiple Localities\n",
       "1           Decision Forests vs. Deep Networks: Conceptual Similarities and Empirical Differences at Small Sample Sizes\n",
       "2                                                       Power up! Robust Graph Convolutional Network via Graph Powering\n",
       "3                                                  Releasing Graph Neural Networks with Differential Privacy Guarantees\n",
       "4                                   Recurrence-Aware Long-Term Cognitive Network for Explainable Pattern Classification\n",
       "...                                                                                                                 ...\n",
       "41100              An experimental study of graph-based semi-supervised classification with additional node information\n",
       "41101                                                          Bayesian Differential Privacy through Posterior Sampling\n",
       "41102                                       Mining Spatio-temporal Data on Industrialization from Historical Registries\n",
       "41103                                                 Wav2Letter: an End-to-End ConvNet-based Speech Recognition System\n",
       "41104                                                                                       Generalized Low Rank Models\n",
       "\n",
       "[41105 rows x 1 columns]"
      ]
     },
     "execution_count": 11,
     "metadata": {},
     "output_type": "execute_result"
    }
   ],
   "source": [
    "pd.set_option('display.max_colwidth', None)\n",
    "arxiv_data"
   ]
  },
  {
   "cell_type": "code",
   "execution_count": 12,
   "id": "795eb2e7-f582-4ce8-b238-ac1b7fb6fb3c",
   "metadata": {},
   "outputs": [
    {
     "name": "stderr",
     "output_type": "stream",
     "text": [
      "\n",
      "[notice] A new release of pip is available: 24.0 -> 24.1\n",
      "[notice] To update, run: python.exe -m pip install --upgrade pip\n"
     ]
    }
   ],
   "source": [
    "!pip install -U -q sentence-transformers"
   ]
  },
  {
   "cell_type": "code",
   "execution_count": 13,
   "id": "6404fcf9-edb5-4902-bab8-253e27b4356a",
   "metadata": {},
   "outputs": [
    {
     "name": "stdout",
     "output_type": "stream",
     "text": [
      "Requirement already satisfied: pip in c:\\users\\dell\\anaconda3\\lib\\site-packages (24.0)\n",
      "Collecting pip\n",
      "  Downloading pip-24.1-py3-none-any.whl.metadata (3.6 kB)\n",
      "Downloading pip-24.1-py3-none-any.whl (1.8 MB)\n",
      "   ---------------------------------------- 0.0/1.8 MB ? eta -:--:--\n",
      "   ---------------------------------------- 0.0/1.8 MB ? eta -:--:--\n",
      "    --------------------------------------- 0.0/1.8 MB 487.6 kB/s eta 0:00:04\n",
      "   -- ------------------------------------- 0.1/1.8 MB 1.0 MB/s eta 0:00:02\n",
      "   ------ --------------------------------- 0.3/1.8 MB 1.9 MB/s eta 0:00:01\n",
      "   ------------- -------------------------- 0.6/1.8 MB 2.9 MB/s eta 0:00:01\n",
      "   ----------------------- ---------------- 1.1/1.8 MB 4.3 MB/s eta 0:00:01\n",
      "   ------------------------ --------------- 1.1/1.8 MB 3.8 MB/s eta 0:00:01\n",
      "   ---------------------------------- ----- 1.6/1.8 MB 4.5 MB/s eta 0:00:01\n",
      "   ---------------------------------- ----- 1.6/1.8 MB 4.5 MB/s eta 0:00:01\n",
      "   ---------------------------------------  1.8/1.8 MB 4.2 MB/s eta 0:00:01\n",
      "   ---------------------------------------- 1.8/1.8 MB 3.9 MB/s eta 0:00:00\n",
      "Installing collected packages: pip\n",
      "  Attempting uninstall: pip\n",
      "    Found existing installation: pip 24.0\n",
      "    Uninstalling pip-24.0:\n",
      "      Successfully uninstalled pip-24.0\n",
      "Successfully installed pip-24.1\n",
      "Note: you may need to restart the kernel to use updated packages.\n"
     ]
    }
   ],
   "source": [
    "pip install --upgrade pip"
   ]
  },
  {
   "cell_type": "code",
   "execution_count": 18,
   "id": "72883d28-860a-473d-9dba-175e56996cd7",
   "metadata": {},
   "outputs": [
    {
     "name": "stderr",
     "output_type": "stream",
     "text": [
      "C:\\Users\\DELL\\anaconda3\\Lib\\site-packages\\huggingface_hub\\file_download.py:1132: FutureWarning: `resume_download` is deprecated and will be removed in version 1.0.0. Downloads always resume when possible. If you want to force a new download, use `force_download=True`.\n",
      "  warnings.warn(\n"
     ]
    }
   ],
   "source": [
    "from sentence_transformers import SentenceTransformer,util\n",
    "model = SentenceTransformer('all-MiniLM-L6-v2')\n",
    "sentences = arxiv_data['titles']\n",
    "embeddings = model.encode(sentences)"
   ]
  },
  {
   "cell_type": "code",
   "execution_count": 19,
   "id": "b7c2ee16-23c0-4349-a986-96ae889d019c",
   "metadata": {},
   "outputs": [
    {
     "data": {
      "text/plain": [
       "array([[ 0.06643401, -0.04954606,  0.06388087, ...,  0.00106306,\n",
       "        -0.12156384, -0.06962777],\n",
       "       [ 0.09212259, -0.07606941,  0.06572863, ..., -0.0856517 ,\n",
       "        -0.09266542,  0.00725291],\n",
       "       [-0.08162686,  0.02428935,  0.0188874 , ...,  0.00806164,\n",
       "        -0.05129533, -0.05873999],\n",
       "       ...,\n",
       "       [ 0.01227977, -0.08568837, -0.02782775, ..., -0.05257975,\n",
       "        -0.10806686,  0.07843312],\n",
       "       [-0.07258197, -0.12690923, -0.00535551, ...,  0.03597702,\n",
       "        -0.03986149, -0.05971031],\n",
       "       [ 0.0076887 , -0.10124184,  0.0890985 , ..., -0.08199871,\n",
       "        -0.05649745,  0.0900706 ]], dtype=float32)"
      ]
     },
     "execution_count": 19,
     "metadata": {},
     "output_type": "execute_result"
    }
   ],
   "source": [
    "embeddings"
   ]
  },
  {
   "cell_type": "code",
   "execution_count": 20,
   "id": "d1ecd77b-840f-4ae0-90a9-fa965319bb8b",
   "metadata": {},
   "outputs": [
    {
     "name": "stdout",
     "output_type": "stream",
     "text": [
      "Sentences : Multi-Level Attention Pooling for Graph Neural Networks: Unifying Graph Representations with Multiple Localities\n",
      "Embedding length: 384\n",
      "\n",
      "Sentences : Decision Forests vs. Deep Networks: Conceptual Similarities and Empirical Differences at Small Sample Sizes\n",
      "Embedding length: 384\n",
      "\n",
      "Sentences : Power up! Robust Graph Convolutional Network via Graph Powering\n",
      "Embedding length: 384\n",
      "\n",
      "Sentences : Releasing Graph Neural Networks with Differential Privacy Guarantees\n",
      "Embedding length: 384\n",
      "\n",
      "Sentences : Recurrence-Aware Long-Term Cognitive Network for Explainable Pattern Classification\n",
      "Embedding length: 384\n",
      "\n",
      "Sentences : Lifelong Graph Learning\n",
      "Embedding length: 384\n",
      "\n"
     ]
    }
   ],
   "source": [
    "c=0\n",
    "for sentence, embedding in zip(sentences,embeddings):\n",
    "    print(\"Sentences :\", sentence)\n",
    "    print(\"Embedding length:\", len(embedding))\n",
    "    print(\"\")\n",
    "    if c>=5:\n",
    "        break\n",
    "    c+=1    "
   ]
  },
  {
   "cell_type": "code",
   "execution_count": 21,
   "id": "f82d1335-2e74-4dbf-bdd6-df42b9c8fe16",
   "metadata": {},
   "outputs": [],
   "source": [
    "import pickle \n",
    "with open('embeddings.pkl', 'wb') as f:\n",
    "    pickle.dump(embeddings,f)\n",
    "\n",
    "with open('sentences.pkl','wb') as f:\n",
    "    pickle.dump(sentences,f)\n",
    "\n",
    "with open('rec_model.pkl','wb') as f:\n",
    "    pickle.dump(model,f)"
   ]
  },
  {
   "cell_type": "code",
   "execution_count": 23,
   "id": "7533e44d-2ecd-4fd1-ba9f-4037ae29758f",
   "metadata": {},
   "outputs": [],
   "source": [
    "# load save files\n",
    "embeddings = pickle.load(open('embeddings.pkl','rb'))\n",
    "sentences = pickle.load(open('sentences.pkl','rb'))\n",
    "rec_model = pickle.load(open('rec_model.pkl','rb'))"
   ]
  },
  {
   "cell_type": "code",
   "execution_count": 27,
   "id": "8da57132-73ab-4ef4-9573-12a6cd0d00cf",
   "metadata": {},
   "outputs": [],
   "source": [
    "import torch\n",
    "def recommendation(input_paper):\n",
    "    cosine_scores = util.cos_sim(embeddings,rec_model.encode(input_paper))\n",
    "    top_similar_papers = torch.topk(cosine_scores, dim=0, k=5, sorted=True)\n",
    "    papers_list = []\n",
    "    for i in top_similar_papers.indices:\n",
    "        papers_list.append(sentences[i.item()])\n",
    "\n",
    "    return papers_list"
   ]
  },
  {
   "cell_type": "code",
   "execution_count": 28,
   "id": "fa816ec4-55fe-4e87-913d-434b31172768",
   "metadata": {},
   "outputs": [
    {
     "name": "stdin",
     "output_type": "stream",
     "text": [
      "Enter the title of paper attension is all of you need\n"
     ]
    },
    {
     "name": "stdout",
     "output_type": "stream",
     "text": [
      "Reccomended paper by the model.........\n",
      "=============================================\n",
      "Predicting Blood Pressure Response to Fluid Bolus Therapy Using Attention-Based Neural Networks for Clinical Interpretability\n",
      "BodyPressure -- Inferring Body Pose and Contact Pressure from a Depth Image\n",
      "Is Fast Adaptation All You Need?\n",
      "Estimation of Continuous Blood Pressure from PPG via a Federated Learning Approach\n",
      "N2RPP: An Adversarial Network to Rebuild Plantar Pressure for ACLD Patients\n"
     ]
    }
   ],
   "source": [
    "input_paper = input(\"Enter the title of paper\")\n",
    "recommend_papers = recommendation(input_paper)\n",
    "\n",
    "print(\"Reccomended paper by the model.........\")\n",
    "print(\"=============================================\")\n",
    "for paper in recommend_papers:\n",
    "    print(paper)\n"
   ]
  },
  {
   "cell_type": "code",
   "execution_count": 29,
   "id": "d9c77976-e93c-426e-b085-23b8fb2b74ef",
   "metadata": {},
   "outputs": [
    {
     "name": "stdin",
     "output_type": "stream",
     "text": [
      "Enter the title of paper ethinicity detection from the facial images\n"
     ]
    },
    {
     "name": "stdout",
     "output_type": "stream",
     "text": [
      "Reccomended paper by the model.........\n",
      "=============================================\n",
      "Uncovering the Bias in Facial Expressions\n",
      "Identifying individual facial expressions by deconstructing a neural network\n",
      "Suppressing Uncertainties for Large-Scale Facial Expression Recognition\n",
      "Spontaneous Subtle Expression Detection and Recognition based on Facial Strain\n",
      "Transformation on Computer-Generated Facial Image to Avoid Detection by Spoofing Detector\n"
     ]
    }
   ],
   "source": [
    "input_paper = input(\"Enter the title of paper\")\n",
    "recommend_papers = recommendation(input_paper)\n",
    "\n",
    "print(\"Reccomended paper by the model.........\")\n",
    "print(\"=============================================\")\n",
    "for paper in recommend_papers:\n",
    "    print(paper)\n"
   ]
  },
  {
   "cell_type": "code",
   "execution_count": 30,
   "id": "a425ba4a-5e3d-475d-8bdb-8b610d4ecd6d",
   "metadata": {},
   "outputs": [
    {
     "name": "stdout",
     "output_type": "stream",
     "text": [
      "2.3.1+cpu\n",
      "3.0.1\n",
      "2.16.1\n"
     ]
    }
   ],
   "source": [
    "import sentence_transformers\n",
    "import tensorflow\n",
    "import torch\n",
    "print(torch.__version__)\n",
    "print(sentence_transformers.__version__)\n",
    "print(tensorflow.__version__)"
   ]
  },
  {
   "cell_type": "code",
   "execution_count": null,
   "id": "97af1640-84a2-4c4f-b195-01ad8ef6af87",
   "metadata": {},
   "outputs": [],
   "source": []
  }
 ],
 "metadata": {
  "kernelspec": {
   "display_name": "Python 3 (ipykernel)",
   "language": "python",
   "name": "python3"
  },
  "language_info": {
   "codemirror_mode": {
    "name": "ipython",
    "version": 3
   },
   "file_extension": ".py",
   "mimetype": "text/x-python",
   "name": "python",
   "nbconvert_exporter": "python",
   "pygments_lexer": "ipython3",
   "version": "3.11.7"
  }
 },
 "nbformat": 4,
 "nbformat_minor": 5
}
